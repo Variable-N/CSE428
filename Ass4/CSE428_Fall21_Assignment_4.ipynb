{
  "nbformat": 4,
  "nbformat_minor": 0,
  "metadata": {
    "colab": {
      "name": "20101118_CSE428_Fall21_Assignment_4.ipynb",
      "provenance": [],
      "collapsed_sections": []
    },
    "kernelspec": {
      "name": "python3",
      "display_name": "Python 3"
    },
    "language_info": {
      "name": "python"
    }
  },
  "cells": [
    {
      "cell_type": "markdown",
      "metadata": {
        "id": "JwV8CXxIzjIX"
      },
      "source": [
        "# **Assignment 4**"
      ]
    },
    {
      "cell_type": "code",
      "source": [
        "NAME = \"Niloy Farhan\"\n",
        "ID = \"20101118\"\n",
        "COLLABORATORS_ID = [\"\", \"\"]"
      ],
      "metadata": {
        "id": "Yy_-VXXW7BiG"
      },
      "execution_count": null,
      "outputs": []
    },
    {
      "cell_type": "markdown",
      "metadata": {
        "id": "jA-ge4vIzspK"
      },
      "source": [
        "In this assignment you will have to create the VGG-19 network from scratch, using the keras functional API and explore its usage for different tasks. [(The Functional API).](https://www.tensorflow.org/guide/keras/functional)\n",
        "[Going through the *Setup* and *Introduction* sections of the previous tutorial will suffice if you haven't attended the live demo sessions.]"
      ]
    },
    {
      "cell_type": "markdown",
      "metadata": {
        "id": "NFT2muZmz84T"
      },
      "source": [
        "Read the VGG paper: [Very Deep Convolutional Networks for Large-Scale Image Recognition - Karen Simonyan, Andrew Zisserman](https://arxiv.org/abs/1409.1556) and complete the following tasks"
      ]
    },
    {
      "cell_type": "markdown",
      "metadata": {
        "id": "_7QX686O2icE"
      },
      "source": [
        "## Task 1\n",
        "\n",
        "Complete the following block to create a VGG19 network suitable for the ILSVRC classification task in keras and print the network's summary. (You don't have to train the network.)\n",
        "\n",
        "[Hint: __Section 2 CONVNET CONFIGURATIONS__ of the paper contains necessary information about the network architecture of the VGG network. (Column E of Table 1 is the VGG19 network architecture.)]"
      ]
    },
    {
      "cell_type": "code",
      "metadata": {
        "id": "rZCyRSG7zhDW"
      },
      "source": [
        "# Import necessary libraries\n",
        "import tensorflow as tf\n",
        "from tensorflow.keras import layers"
      ],
      "execution_count": null,
      "outputs": []
    },
    {
      "cell_type": "code",
      "metadata": {
        "id": "mhUGnfjS4GxK",
        "outputId": "92cc6800-826c-4bfb-80a9-c6dc7e25bb4f",
        "colab": {
          "base_uri": "https://localhost:8080/"
        }
      },
      "source": [
        "inputs = tf.keras.Input(shape=(224, 224, 3))\n",
        "\n",
        "# to do\n",
        "block1_conv1 = layers.Conv2D(64,(3,3),activation = 'relu', padding='same', name='block1_conv1')(inputs)\n",
        "block1_conv2 = layers.Conv2D(64,(3,3),activation = 'relu', padding='same', name='block1_conv2')(block1_conv1)\n",
        "block1_maxpooling2d = layers.MaxPooling2D((2, 2), strides=(2, 2), name='block1_pool')(block1_conv2)\n",
        "\n",
        "block2_conv1 = layers.Conv2D(128,(3,3),activation = 'relu', padding='same', name='block2_conv1')(block1_maxpooling2d)\n",
        "block2_conv2 = layers.Conv2D(128,(3,3),activation = 'relu', padding='same', name='block2_conv2')(block2_conv1)\n",
        "block2_maxpooling2d = layers.MaxPooling2D((2, 2), strides=(2, 2), name='block2_pool')(block2_conv2)\n",
        "\n",
        "block3_conv1 = layers.Conv2D(256,(3,3),activation = 'relu', padding='same', name='block3_conv1')(block2_maxpooling2d)\n",
        "block3_conv2 = layers.Conv2D(256,(3,3),activation = 'relu', padding='same', name='block3_conv2')(block3_conv1)\n",
        "block3_conv3 = layers.Conv2D(256,(3,3),activation = 'relu', padding='same', name='block3_conv3')(block3_conv2)\n",
        "block3_conv4 = layers.Conv2D(256,(3,3),activation = 'relu', padding='same', name='block3_conv4')(block3_conv3)\n",
        "block3_maxpooling2d = layers.MaxPooling2D((2, 2), strides=(2, 2), name='block3_pool')(block3_conv4)\n",
        "\n",
        "block4_conv1 = layers.Conv2D(512, (3, 3), activation='relu', padding='same', name='block4_conv1')(block3_maxpooling2d)\n",
        "block4_conv2 = layers.Conv2D(512, (3, 3), activation='relu', padding='same', name='block4_conv2')(block4_conv1)\n",
        "block4_conv3 = layers.Conv2D(512, (3, 3), activation='relu', padding='same', name='block4_conv3')(block4_conv2)\n",
        "block4_conv4 = layers.Conv2D(512, (3, 3), activation='relu', padding='same', name='block4_conv4')(block4_conv3)\n",
        "block4_maxpooling2d = layers.MaxPooling2D((2, 2), strides=(2, 2), name='block4_pool')(block4_conv4)\n",
        "\n",
        "block5_conv1 = layers.Conv2D(512, (3, 3), activation='relu', padding='same', name='block5_conv1')(block4_maxpooling2d)\n",
        "block5_conv2 = layers.Conv2D(512, (3, 3), activation='relu', padding='same', name='block5_conv2')(block5_conv1)\n",
        "block5_conv3 = layers.Conv2D(512, (3, 3), activation='relu', padding='same', name='block5_conv3')(block5_conv2)\n",
        "block5_conv4 = layers.Conv2D(512, (3, 3), activation='relu', padding='same', name='block5_conv4')(block5_conv3)\n",
        "block5_maxpooling2d = layers.MaxPooling2D((2, 2), strides=(2, 2), name='block5_pool')(block5_conv4)\n",
        "\n",
        "flatten = layers.Flatten(name = 'flatten')(block5_maxpooling2d)\n",
        "fc1 = layers.Dense(4096, activation='relu', name='fc1')(flatten)\n",
        "fc2 = layers.Dense(4096, activation='relu', name='fc2')(fc1)\n",
        "\n",
        "outputs = tf.keras.layers.Dense(1000, activation=\"softmax\", name = \"prediction\")(fc2)\n",
        "\n",
        "model = tf.keras.Model(inputs=inputs, outputs=outputs, name=\"vgg19\")\n",
        "\n",
        "model.summary()"
      ],
      "execution_count": null,
      "outputs": [
        {
          "output_type": "stream",
          "name": "stdout",
          "text": [
            "Model: \"vgg19\"\n",
            "_________________________________________________________________\n",
            " Layer (type)                Output Shape              Param #   \n",
            "=================================================================\n",
            " input_1 (InputLayer)        [(None, 224, 224, 3)]     0         \n",
            "                                                                 \n",
            " block1_conv1 (Conv2D)       (None, 224, 224, 64)      1792      \n",
            "                                                                 \n",
            " block1_conv2 (Conv2D)       (None, 224, 224, 64)      36928     \n",
            "                                                                 \n",
            " block1_pool (MaxPooling2D)  (None, 112, 112, 64)      0         \n",
            "                                                                 \n",
            " block2_conv1 (Conv2D)       (None, 112, 112, 128)     73856     \n",
            "                                                                 \n",
            " block2_conv2 (Conv2D)       (None, 112, 112, 128)     147584    \n",
            "                                                                 \n",
            " block2_pool (MaxPooling2D)  (None, 56, 56, 128)       0         \n",
            "                                                                 \n",
            " block3_conv1 (Conv2D)       (None, 56, 56, 256)       295168    \n",
            "                                                                 \n",
            " block3_conv2 (Conv2D)       (None, 56, 56, 256)       590080    \n",
            "                                                                 \n",
            " block3_conv3 (Conv2D)       (None, 56, 56, 256)       590080    \n",
            "                                                                 \n",
            " block3_conv4 (Conv2D)       (None, 56, 56, 256)       590080    \n",
            "                                                                 \n",
            " block3_pool (MaxPooling2D)  (None, 28, 28, 256)       0         \n",
            "                                                                 \n",
            " block4_conv1 (Conv2D)       (None, 28, 28, 512)       1180160   \n",
            "                                                                 \n",
            " block4_conv2 (Conv2D)       (None, 28, 28, 512)       2359808   \n",
            "                                                                 \n",
            " block4_conv3 (Conv2D)       (None, 28, 28, 512)       2359808   \n",
            "                                                                 \n",
            " block4_conv4 (Conv2D)       (None, 28, 28, 512)       2359808   \n",
            "                                                                 \n",
            " block4_pool (MaxPooling2D)  (None, 14, 14, 512)       0         \n",
            "                                                                 \n",
            " block5_conv1 (Conv2D)       (None, 14, 14, 512)       2359808   \n",
            "                                                                 \n",
            " block5_conv2 (Conv2D)       (None, 14, 14, 512)       2359808   \n",
            "                                                                 \n",
            " block5_conv3 (Conv2D)       (None, 14, 14, 512)       2359808   \n",
            "                                                                 \n",
            " block5_conv4 (Conv2D)       (None, 14, 14, 512)       2359808   \n",
            "                                                                 \n",
            " block5_pool (MaxPooling2D)  (None, 7, 7, 512)         0         \n",
            "                                                                 \n",
            " flatten (Flatten)           (None, 25088)             0         \n",
            "                                                                 \n",
            " fc1 (Dense)                 (None, 4096)              102764544 \n",
            "                                                                 \n",
            " fc2 (Dense)                 (None, 4096)              16781312  \n",
            "                                                                 \n",
            " prediction (Dense)          (None, 1000)              4097000   \n",
            "                                                                 \n",
            "=================================================================\n",
            "Total params: 143,667,240\n",
            "Trainable params: 143,667,240\n",
            "Non-trainable params: 0\n",
            "_________________________________________________________________\n"
          ]
        }
      ]
    },
    {
      "cell_type": "markdown",
      "metadata": {
        "id": "vYOHfws84la6"
      },
      "source": [
        "Your summary should match the following:\n",
        "```\n",
        "Model: \"vgg19\"\n",
        "_________________________________________________________________\n",
        "Layer (type)                 Output Shape              Param #   \n",
        "=================================================================\n",
        "input_1 (InputLayer)         [(None, 224, 224, 3)]     0         \n",
        "_________________________________________________________________\n",
        "block1_conv1 (Conv2D)        (None, 224, 224, 64)      1792      \n",
        "_________________________________________________________________\n",
        "block1_conv2 (Conv2D)        (None, 224, 224, 64)      36928     \n",
        "_________________________________________________________________\n",
        "block1_pool (MaxPooling2D)   (None, 112, 112, 64)      0         \n",
        "_________________________________________________________________\n",
        "block2_conv1 (Conv2D)        (None, 112, 112, 128)     73856     \n",
        "_________________________________________________________________\n",
        "block2_conv2 (Conv2D)        (None, 112, 112, 128)     147584    \n",
        "_________________________________________________________________\n",
        "block2_pool (MaxPooling2D)   (None, 56, 56, 128)       0         \n",
        "_________________________________________________________________\n",
        "block3_conv1 (Conv2D)        (None, 56, 56, 256)       295168    \n",
        "_________________________________________________________________\n",
        "block3_conv2 (Conv2D)        (None, 56, 56, 256)       590080    \n",
        "_________________________________________________________________\n",
        "block3_conv3 (Conv2D)        (None, 56, 56, 256)       590080    \n",
        "_________________________________________________________________\n",
        "block3_conv4 (Conv2D)        (None, 56, 56, 256)       590080    \n",
        "_________________________________________________________________\n",
        "block3_pool (MaxPooling2D)   (None, 28, 28, 256)       0         \n",
        "_________________________________________________________________\n",
        "block4_conv1 (Conv2D)        (None, 28, 28, 512)       1180160   \n",
        "_________________________________________________________________\n",
        "block4_conv2 (Conv2D)        (None, 28, 28, 512)       2359808   \n",
        "_________________________________________________________________\n",
        "block4_conv3 (Conv2D)        (None, 28, 28, 512)       2359808   \n",
        "_________________________________________________________________\n",
        "block4_conv4 (Conv2D)        (None, 28, 28, 512)       2359808   \n",
        "_________________________________________________________________\n",
        "block4_pool (MaxPooling2D)   (None, 14, 14, 512)       0         \n",
        "_________________________________________________________________\n",
        "block5_conv1 (Conv2D)        (None, 14, 14, 512)       2359808   \n",
        "_________________________________________________________________\n",
        "block5_conv2 (Conv2D)        (None, 14, 14, 512)       2359808   \n",
        "_________________________________________________________________\n",
        "block5_conv3 (Conv2D)        (None, 14, 14, 512)       2359808   \n",
        "_________________________________________________________________\n",
        "block5_conv4 (Conv2D)        (None, 14, 14, 512)       2359808   \n",
        "_________________________________________________________________\n",
        "block5_pool (MaxPooling2D)   (None, 7, 7, 512)         0         \n",
        "_________________________________________________________________\n",
        "flatten (Flatten)            (None, 25088)             0         \n",
        "_________________________________________________________________\n",
        "fc1 (Dense)                  (None, 4096)              102764544 \n",
        "_________________________________________________________________\n",
        "fc2 (Dense)                  (None, 4096)              16781312  \n",
        "_________________________________________________________________\n",
        "predictions (Dense)          (None, 1000)              4097000   \n",
        "=================================================================\n",
        "Total params: 143,667,240\n",
        "Trainable params: 143,667,240\n",
        "Non-trainable params: 0\n",
        "_________________________________________________________________\n",
        "```\n",
        "\n"
      ]
    },
    {
      "cell_type": "markdown",
      "metadata": {
        "id": "QjtSv3A_76CY"
      },
      "source": [
        "## Task 2\n",
        "\n",
        "What percentage of total parameters are in the fully connected layers?"
      ]
    },
    {
      "cell_type": "markdown",
      "metadata": {
        "id": "9eBK6yk08K5w"
      },
      "source": [
        "Answer:\n",
        "\n",
        "There are 3 fully connected layer (fc1,fc2, prediction). Total parameters = 143,667,240. fc1, fc2 and prediction have 123,642,856 parameters. Therefore, 86.06% parameters are fully connected.\n"
      ]
    },
    {
      "cell_type": "markdown",
      "metadata": {
        "id": "BT3xbCIM8N4J"
      },
      "source": [
        "## Task 3\n",
        "\n",
        "The VGG19 network from task 1 contains a Dense (FC) output layer with 1000 units for the ILSVRC classification task. How could you modify the current output layer so that it is capable of classifying the CIFAR-100 dataset, which has a total number of 100 classes?"
      ]
    },
    {
      "cell_type": "markdown",
      "metadata": {
        "id": "v4qnBvly9YSo"
      },
      "source": [
        "Answer:\n",
        "\n",
        "In VGG19, the output layer has 1000 nodes. But CIFAR-100 dataset has 100 classes. So, if we want to use VGG19 network for CIFAR-100 dataset, we don't need all 1000 nodes. So, I will modify the final layer to following: \n",
        "\n",
        "outputs = tf.keras.layers.Dense(100, activation=\"softmax\", name = \"prediction\")(fc2)"
      ]
    },
    {
      "cell_type": "markdown",
      "metadata": {
        "id": "zXzTjgfT9ajY"
      },
      "source": [
        "##Task 4\n",
        "\n",
        "The VGG19 network from task 1 was designed for the ILSVRC classification challenge, but as we know there was a seperate challenge for image localisation. How could you modify the current ouput layer so that is suitable for the ILSVRC localisation task?\n",
        "\n",
        "[Hint: __Section A LOCALISATION__ contains information about the localisation task.]"
      ]
    },
    {
      "cell_type": "markdown",
      "metadata": {
        "id": "EEjY7PL1DfuY"
      },
      "source": [
        "Answer:\n",
        "\n",
        "To perform the classification challenge I need to modify the current output layer of VGG19 Network. The current output layer has 1000 nodes where each nodes represents a class (object type). Instead of class score, we will use deep ConvNet, where the last fully connect layer predicts bounding box location. A bounding box is represented by 4 dimensional vector. While training, if the bounding box prediction is overlaps more than 50% with ground truth then we will set error = 0, otherwise 1. \n"
      ]
    },
    {
      "cell_type": "markdown",
      "metadata": {
        "id": "CLRO3JhR9c2Q"
      },
      "source": [
        "## Task 5\n",
        "\n",
        "The VGG19 network from task 1 was designed for the ILSVRC classification challenge. Explain how the authors proposed this deep network as a feature extractor for other computer vision tasks.\n",
        "[Hint: __B GENERALISATION OF VERY DEEP FEATURES__ contains information about using the VGG network as a feature extractor.]"
      ]
    },
    {
      "cell_type": "markdown",
      "metadata": {
        "id": "D6AwIA2SDh54"
      },
      "source": [
        "Answer:\n",
        "\n",
        "The VGG19 network is a deep neural network which is extracting features from an input. To use it as a feature extractor for other computer vision tasks, I will remove the last fully connected layer(final layer) and use the input of final layer (In my code, the output of fc2 (dense) layer) to other classification or neural network architectures input. Thus, we can use VGG19 network as a feature extractor."
      ]
    },
    {
      "cell_type": "markdown",
      "metadata": {
        "id": "E5zgyOw8BJ-4"
      },
      "source": [
        "### --THE END--"
      ]
    }
  ]
}